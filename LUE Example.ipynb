{
 "cells": [
  {
   "cell_type": "markdown",
   "id": "190d206f-1473-4de1-9f97-b230ad216a4c",
   "metadata": {},
   "source": [
    "# An $SU(3)\\otimes SU(3)$ example"
   ]
  },
  {
   "cell_type": "markdown",
   "id": "482f849a-9c09-46ff-8f6f-787f3f6ed2c0",
   "metadata": {},
   "source": [
    "Start with a clean slate, import necessary stuff, and define some utility functions"
   ]
  },
  {
   "cell_type": "code",
   "execution_count": 97,
   "id": "f1f2203c-77a1-4ffc-ac1a-8a7799945264",
   "metadata": {},
   "outputs": [],
   "source": [
    "%reset -f\n",
    "import string\n",
    "import numpy as np\n",
    "from numpy import sqrt, cos, sin, pi\n",
    "from scipy.linalg import norm, block_diag, expm, inv, eigh, det\n",
    "import qiskit.quantum_info as qi\n",
    "from qiskit.visualization import array_to_latex\n",
    "\n",
    "import special_unitary_group as sug\n",
    "\n",
    "def partial_trace(T, dims, trace_axes):\n",
    "    \"\"\"\n",
    "    Compute partial trace for a subset of axes.\n",
    "    :param T:  a numpy array of NxN\n",
    "    :param dims: a tuple/list of integers of subspace dimensions, np.prod(dims) = N\n",
    "    :param trace_axes: a tuple/list of subspace indices to partial trace over.\n",
    "    :return: a numpy array of MxM where M = N/np.prod([dims[k] for k in trace_axes])\n",
    "\n",
    "    Note: the order of dimensions are in the qiskit conversion,\n",
    "    the Hilbert space the H_{K-1} X...X H_0.\n",
    "\n",
    "    The limitation is the number of subspaces is no greater than 26 (by the\n",
    "    number of letter used in einsum).  For the case where number of subspaces\n",
    "    is greater than 26, use partial_trace_2, which is unlimited, but much slower.\n",
    "    \"\"\"\n",
    "\n",
    "    K = len(dims)\n",
    "\n",
    "    # build subscript string for einsum\n",
    "    in_sub_left = list(string.ascii_lowercase[:K])  # in subscript left\n",
    "    in_sub_right = list(string.ascii_uppercase[:K])  # in subscript right\n",
    "    out_sub_left = list(string.ascii_lowercase[:K])  # out subscript left\n",
    "    out_sub_right = list(string.ascii_uppercase[:K])  # out subscript right\n",
    "\n",
    "    trace_dim = 1\n",
    "    for k in trace_axes:\n",
    "        out_sub_left.remove(in_sub_left[K-1-k])  # qiskit reverse\n",
    "        out_sub_right.remove(in_sub_right[K-1-k])\n",
    "        in_sub_right[K-1-k] = in_sub_left[K-1-k]\n",
    "        trace_dim *= dims[k]\n",
    "\n",
    "    subscript = \"\".join(in_sub_left + in_sub_right + ['-', '>'] + out_sub_left + out_sub_right)\n",
    "\n",
    "    out_dim = round(np.prod(dims)/np.prod(trace_dim))\n",
    "    dims_reversed = list(reversed(dims))\n",
    "    return np.einsum(subscript, T.reshape(dims_reversed+dims_reversed)).reshape(out_dim, out_dim)\n",
    "\n",
    "def process_density_matrix(rho):\n",
    "    \"\"\"\n",
    "    take an input qi.DensityMatrix and returns single qudit density matrix (np array)\n",
    "    :param rho: qiskit.quantum_info.DensityMatrix, density matrix of K qudits\n",
    "    :return:\n",
    "    \"\"\"\n",
    "    dims = rho.dims()\n",
    "    K = len(dims)\n",
    "    r1_list = []  # list of single qudit reduced density matrix\n",
    "    eigen_list = []  # list of eigenvalues and eigenvectors of r1\n",
    "    for k in range(K):\n",
    "        trace_dims = list(range(K))\n",
    "        trace_dims.remove(k)\n",
    "        r1 = partial_trace(rho.data, dims, trace_dims)\n",
    "        D, V = eigh(r1)\n",
    "        V /= det(V)**(1/dims[k])  # make sure V in SU(N)\n",
    "        r1_list.append(r1)\n",
    "        eigen_list.append((D, V))\n",
    "\n",
    "    return r1_list, eigen_list\n",
    "\n",
    "def compute_SO2(v_a, v_b):\n",
    "    norm_a = norm(v_a)\n",
    "    norm_b = norm(v_b)\n",
    "    if not np.isclose(norm_a, norm_b):\n",
    "        raise ValueError(\"Norm v_a and v_b diff,\\n\"\n",
    "                         f\"    norm(v_a) = {norm_a},\\n\"\n",
    "                         f\"    norm(v_b) = {norm_b},\\n\"\n",
    "                         f\"    diff = {norm_a-norm_b}\")\n",
    "    denominator = norm_a**2\n",
    "\n",
    "    cos_phi = min(1, max(-1, (v_a[0]*v_b[0] + v_a[1]*v_b[1])/denominator))\n",
    "    sin_phi = min(1, max(-1, (v_b[0]*v_a[1]-v_a[0]*v_b[1])/denominator))\n",
    "\n",
    "    # R = [[c, s], [-s, c]]\n",
    "    return np.array([[cos_phi, sin_phi], [-sin_phi, cos_phi]])\n",
    "\n",
    "def R2phi(R):\n",
    "    return np.arctan2(R[0, 1], R[0, 0])"
   ]
  },
  {
   "cell_type": "markdown",
   "id": "d773c78e-da2b-4d74-9967-06ad01f2b00b",
   "metadata": {},
   "source": [
    "Now let's start with two qutrits.  Randomly generate $\\rho^{(0)}$ and $U = U_1\\otimes U_0$, then compute $\\rho^{(1)} = U\\rho^{(0)}U^\\dagger$.  Note with python, the index starts from 0, while in the article, indices are starting from 1."
   ]
  },
  {
   "cell_type": "code",
   "execution_count": 98,
   "id": "05cee166-7918-49da-a33a-22120df1ace4",
   "metadata": {},
   "outputs": [],
   "source": [
    "np.set_printoptions(linewidth=1000)\n",
    "RNG = np.random.default_rng(12345)\n",
    "\n",
    "n = 3\n",
    "K = 2\n",
    "dims = tuple([n]*K)\n",
    "\n",
    "rho_a = qi.random_density_matrix(dims, seed=RNG)\n",
    "\n",
    "U_list = [qi.random_unitary(n, seed=RNG).data for _ in range(K)]\n",
    "U = 1\n",
    "for i in range(len(U_list)):\n",
    "    U = np.kron(U_list[i], U)\n",
    "\n",
    "rho_b = rho_a.evolve(U)\n",
    "\n",
    "rho_list = [rho_a, rho_b]"
   ]
  },
  {
   "cell_type": "markdown",
   "id": "f71da2f5-3026-4d83-b77d-a68b64b1dc48",
   "metadata": {},
   "source": [
    "Compute the single qutrit reduced density matrices, and their eigendecompositions."
   ]
  },
  {
   "cell_type": "code",
   "execution_count": 99,
   "id": "77132cfe-21f9-41f3-929a-a42644a5005e",
   "metadata": {},
   "outputs": [],
   "source": [
    "r1_lists = [list(), list()]\n",
    "eigen_lists = [list(), list()]\n",
    "\n",
    "for i in (0, 1):\n",
    "    r1_lists[i], eigen_lists[i] = process_density_matrix(rho_list[i])"
   ]
  },
  {
   "cell_type": "markdown",
   "id": "623e36a9-23fa-43de-8b04-7447d33a02d5",
   "metadata": {},
   "source": [
    "Check the agreement of eigenvalues."
   ]
  },
  {
   "cell_type": "code",
   "execution_count": 100,
   "id": "30ff034d-f81f-460c-8e5c-74e33f3021c0",
   "metadata": {},
   "outputs": [
    {
     "name": "stdout",
     "output_type": "stream",
     "text": [
      "D_0\n"
     ]
    },
    {
     "data": {
      "text/latex": [
       "$$\n",
       "\n",
       "\\begin{bmatrix}\n",
       "0.2569196357 & 0.2958220262 & 0.4472583382  \\\\\n",
       " \\end{bmatrix}\n",
       "$$"
      ],
      "text/plain": [
       "<IPython.core.display.Latex object>"
      ]
     },
     "metadata": {},
     "output_type": "display_data"
    },
    {
     "name": "stdout",
     "output_type": "stream",
     "text": [
      "D_1\n"
     ]
    },
    {
     "data": {
      "text/latex": [
       "$$\n",
       "\n",
       "\\begin{bmatrix}\n",
       "0.2544712337 & 0.323066427 & 0.4224623394  \\\\\n",
       " \\end{bmatrix}\n",
       "$$"
      ],
      "text/plain": [
       "<IPython.core.display.Latex object>"
      ]
     },
     "metadata": {},
     "output_type": "display_data"
    }
   ],
   "source": [
    "for k in range(K):\n",
    "    D_a = eigen_lists[0][k][0]\n",
    "    D_b = eigen_lists[1][k][0]\n",
    "    if not np.allclose(D_a-D_b, 0):\n",
    "        raise ValueError(f\"signle qudit eigen values in qudit-{k} differ\"\n",
    "                        f\"D_a = {D_a}, D_b = {D_b}, Diff = {D_a-D_b}\")\n",
    "    print(f\"D_{k}\")\n",
    "    display(array_to_latex(D_a))"
   ]
  },
  {
   "cell_type": "markdown",
   "id": "e2eca85b-22ff-41cd-9b33-a9d5e09d9258",
   "metadata": {},
   "source": [
    "Construct reference density matrices $\\rho^{(r,a)}$ for $a = 0, 1$ as in Eq. (5)."
   ]
  },
  {
   "cell_type": "code",
   "execution_count": 101,
   "id": "bacd0434-49fb-4c5b-913d-ef2004b036d7",
   "metadata": {},
   "outputs": [
    {
     "name": "stdout",
     "output_type": "stream",
     "text": [
      "ref_rho_list[0]\n"
     ]
    },
    {
     "data": {
      "text/latex": [
       "$$\n",
       "\n",
       "\\begin{bmatrix}\n",
       "0.0768921237 & 0.0085001479 + 0.023466517 i & -0.003025269 - 0.0052026217 i & -0.0005556695 - 0.0040561765 i & 0.001728474 - 0.0413441392 i & -0.0244118932 + 0.0033326292 i & -0.0052122529 + 0.0186631752 i & -0.0009889836 - 0.0370802797 i & 0.0368454515 - 0.0352812555 i  \\\\\n",
       " 0.0085001479 - 0.023466517 i & 0.0284550598 & 0.0023414042 - 0.0035947955 i & 0.0015156878 - 0.0084276295 i & -0.027750046 - 0.0162702673 i & -0.0190124967 - 0.0051826459 i & -0.0140419883 - 0.0093684908 i & -0.0026842894 - 0.0010563446 i & 0.0132905382 - 0.0047464126 i  \\\\\n",
       " -0.003025269 + 0.0052026217 i & 0.0023414042 + 0.0035947955 i & 0.1491240501 & -0.0165112364 - 0.000863037 i & 0.0558826069 - 0.0598877262 i & 0.0283057155 + 0.0203264438 i & -0.0004739867 + 0.019887859 i & 0.0317016636 + 0.040340271 i & 0.0078965423 - 0.0176068306 i  \\\\\n",
       " -0.0005556695 + 0.0040561765 i & 0.0015156878 + 0.0084276295 i & -0.0165112364 + 0.000863037 i & 0.0720328445 & -0.0008718734 - 0.0231834943 i & 0.0356572793 + 0.0052289325 i & 0.0073686062 - 0.0236239367 i & 0.0160375326 - 0.004535855 i & 0.032113502 + 0.0066313207 i  \\\\\n",
       " 0.001728474 + 0.0413441392 i & -0.027750046 + 0.0162702673 i & 0.0558826069 + 0.0598877262 i & -0.0008718734 + 0.0231834943 i & 0.1611704859 & 0.0123322273 + 0.0161667597 i & -0.0020512202 - 0.0114852842 i & 0.0130367989 + 0.0383231417 i & 0.0607568567 - 0.023345545 i  \\\\\n",
       " -0.0244118932 - 0.0033326292 i & -0.0190124967 + 0.0051826459 i & 0.0283057155 - 0.0203264438 i & 0.0356572793 - 0.0052289325 i & 0.0123322273 - 0.0161667597 i & 0.0898630966 & 0.0335368738 - 0.0059934186 i & 0.0268901671 + 0.0186840507 i & -0.0204054051 - 0.014699205 i  \\\\\n",
       " -0.0052122529 - 0.0186631752 i & -0.0140419883 + 0.0093684908 i & -0.0004739867 - 0.019887859 i & 0.0073686062 + 0.0236239367 i & -0.0020512202 + 0.0114852842 i & 0.0335368738 + 0.0059934186 i & 0.1079946674 & -0.0076282744 - 0.0002830227 i & -0.0326320103 - 2.63108 \\cdot 10^{-5} i  \\\\\n",
       " -0.0009889836 + 0.0370802797 i & -0.0026842894 + 0.0010563446 i & 0.0317016636 - 0.040340271 i & 0.0160375326 + 0.004535855 i & 0.0130367989 - 0.0383231417 i & 0.0268901671 - 0.0186840507 i & -0.0076282744 + 0.0002830227 i & 0.1061964805 & -0.0146736315 - 0.0125719643 i  \\\\\n",
       " 0.0368454515 + 0.0352812555 i & 0.0132905382 + 0.0047464126 i & 0.0078965423 + 0.0176068306 i & 0.032113502 - 0.0066313207 i & 0.0607568567 + 0.023345545 i & -0.0204054051 + 0.014699205 i & -0.0326320103 + 2.63108 \\cdot 10^{-5} i & -0.0146736315 + 0.0125719643 i & 0.2082711914  \\\\\n",
       " \\end{bmatrix}\n",
       "$$"
      ],
      "text/plain": [
       "<IPython.core.display.Latex object>"
      ]
     },
     "metadata": {},
     "output_type": "display_data"
    },
    {
     "name": "stdout",
     "output_type": "stream",
     "text": [
      "ref_rho_list[1]\n"
     ]
    },
    {
     "data": {
      "text/latex": [
       "$$\n",
       "\n",
       "\\begin{bmatrix}\n",
       "0.0768921237 & 0.0241713406 - 0.0062190212 i & 0.0004228867 - 0.0060033901 i & -0.0037499118 + 0.001643015 i & 0.0057468297 + 0.040979256 i & -0.0045209158 + 0.0242199972 i & 0.019371219 - 0.000487407 i & 0.0084010558 + 0.036129593 i & -0.022838539 - 0.0456152981 i  \\\\\n",
       " 0.0241713406 + 0.0062190212 i & 0.0284550598 & 0.0020271882 + 0.0037809042 i & -0.0016554886 - 0.008401286 i & -0.0080671886 + 0.0311401207 i & -0.0173814632 - 0.0092854503 i & -0.0165598922 - 0.0032735339 i & -0.000223102 + 0.0028760214 i & 0.0139761784 - 0.0019578752 i  \\\\\n",
       " 0.0004228867 + 0.0060033901 i & 0.0020271882 - 0.0037809042 i & 0.1491240501 & 0.0121067289 + 0.0112602344 i & 0.0022373361 + 0.0818803995 i & 0.0118171004 - 0.0327831357 i & 0.012817347 - 0.0152140466 i & -0.051018754 - 0.0054239914 i & -0.019148117 - 0.0023886144 i  \\\\\n",
       " -0.0037499118 - 0.001643015 i & -0.0016554886 + 0.008401286 i & 0.0121067289 - 0.0112602344 i & 0.0720328445 & -0.0231607282 - 0.0013473078 i & 0.0265494215 + 0.0243703 i & 0.0068783054 - 0.0237713201 i & -0.0033212977 - 0.0163323426 i & 0.0233123297 + 0.023060501 i  \\\\\n",
       " 0.0057468297 - 0.040979256 i & -0.0080671886 - 0.0311401207 i & 0.0022373361 - 0.0818803995 i & -0.0231607282 + 0.0013473078 i & 0.1611704859 & -0.0201041075 + 0.0030451295 i & 0.0111693907 - 0.0033710485 i & 0.0138268248 + 0.0380452393 i & -0.0073900741 + 0.0646668146 i  \\\\\n",
       " -0.0045209158 - 0.0242199972 i & -0.0173814632 + 0.0092854503 i & 0.0118171004 + 0.0327831357 i & 0.0265494215 - 0.0243703 i & -0.0201041075 - 0.0030451295 i & 0.0898630966 & 0.02386824 - 0.0243094651 i & 0.0027874408 - 0.0326252205 i & -0.0207051302 - 0.0142739192 i  \\\\\n",
       " 0.019371219 + 0.000487407 i & -0.0165598922 + 0.0032735339 i & 0.012817347 + 0.0152140466 i & 0.0068783054 + 0.0237713201 i & 0.0111693907 + 0.0033710485 i & 0.02386824 + 0.0243094651 i & 0.1079946674 & -0.0010106124 + 0.0075663291 i & -0.0269723082 - 0.0183669099 i  \\\\\n",
       " 0.0084010558 - 0.036129593 i & -0.000223102 - 0.0028760214 i & -0.051018754 + 0.0054239914 i & -0.0033212977 + 0.0163323426 i & 0.0138268248 - 0.0380452393 i & 0.0027874408 + 0.0326252205 i & -0.0010106124 - 0.0075663291 i & 0.1061964805 & 0.0180769193 - 0.0068260337 i  \\\\\n",
       " -0.022838539 + 0.0456152981 i & 0.0139761784 + 0.0019578752 i & -0.019148117 + 0.0023886144 i & 0.0233123297 - 0.023060501 i & -0.0073900741 - 0.0646668146 i & -0.0207051302 + 0.0142739192 i & -0.0269723082 + 0.0183669099 i & 0.0180769193 + 0.0068260337 i & 0.2082711914  \\\\\n",
       " \\end{bmatrix}\n",
       "$$"
      ],
      "text/plain": [
       "<IPython.core.display.Latex object>"
      ]
     },
     "metadata": {},
     "output_type": "display_data"
    }
   ],
   "source": [
    "ref_rho_list = []  # ref_rho_list is a list of np.array, not qi.DensityMatrix\n",
    "for a in (0, 1):\n",
    "    V = 1\n",
    "    for k in range(K):\n",
    "        V = np.kron(eigen_lists[a][k][1], V)\n",
    "    ref_rho_list.append(V.conj().T @ rho_list[a].data @ V)\n",
    "    print(f\"ref_rho_list[{a}]\")\n",
    "    display(array_to_latex(ref_rho_list[-1], max_size=30))"
   ]
  },
  {
   "cell_type": "markdown",
   "id": "f66b86e7-b8d3-441a-94be-b4ae0815e3df",
   "metadata": {},
   "source": [
    "Project $\\rho^{(r,a)}$ to the basis as in Eq. (9)"
   ]
  },
  {
   "cell_type": "code",
   "execution_count": 102,
   "id": "aef3de9a-67b2-4cb7-ad3b-7efa7f75793c",
   "metadata": {},
   "outputs": [],
   "source": [
    "P_list = []\n",
    "for rr in ref_rho_list:\n",
    "    P = sug.matrix_to_basis_projection(rr, dims).real\n",
    "    rr1 = sug.basis_projection_to_matrix(P, dims)\n",
    "    if not np.allclose(rr, rr1):\n",
    "        raise ValueError(\"basis projection error\")\n",
    "    P_list.append(P)\n",
    "\n",
    "if not np.allclose(P_list[0][0, :], P_list[1][0, :]):\n",
    "    raise ValueError(\"P0[0, :] differ from P1[0, :]\")\n",
    "if not np.allclose(P_list[0][:, 0], P_list[1][:, 0]):\n",
    "    raise ValueError(\"P0[:, 0] differ from P1[:, 0]\")"
   ]
  },
  {
   "cell_type": "markdown",
   "id": "947ed19b-a499-414e-a4a6-78f40319ed54",
   "metadata": {},
   "source": [
    "Take the submatrix $P$ matrix as in Eq. (29)"
   ]
  },
  {
   "cell_type": "code",
   "execution_count": 103,
   "id": "c60a4280-8522-48c0-8754-0b5d09aee3b4",
   "metadata": {},
   "outputs": [
    {
     "name": "stdout",
     "output_type": "stream",
     "text": [
      "p\n"
     ]
    },
    {
     "data": {
      "text/latex": [
       "$$\n",
       "\n",
       "\\begin{bmatrix}\n",
       "0.0064883237 & 0.0995435375 & -0.0300619438 & 0.092897541 & 0.0279726247 & 0.0320422784 & 0.0187440426 & 0.0264251178  \\\\\n",
       " 0.0658330193 & -0.0004255724 & 0.0554235779 & -0.0261060094 & -0.0138988583 & -0.0361775057 & -0.0933000225 & -0.0009804193  \\\\\n",
       " -0.0818462593 & -0.0049391844 & 0.0727429294 & 0.030786793 & 0.1313007516 & -0.0012758043 & -0.0773650966 & 0.1130405996  \\\\\n",
       " -0.0083913324 & 0.0158013135 & 0.1103382289 & -0.0746388764 & -0.0252494786 & 0.0028467438 & 0.0208631085 & -9.11433 \\cdot 10^{-5}  \\\\\n",
       " 0.0737402204 & 0.1301407442 & 0.0899844036 & -0.0711877168 & 0.1752940476 & 0.0093229885 & -0.0199816462 & 0.0508309506  \\\\\n",
       " -0.1094101606 & 0.1497902073 & 0.0901733673 & 0.0368222509 & 0.0840591914 & -0.0677333791 & 0.0395231105 & -0.0435505617  \\\\\n",
       " 0.0543887529 & -0.0244281815 & -0.0050559269 & -0.0394390398 & -0.0113363856 & 0.123894157 & 0.1375747053 & -0.0255748568  \\\\\n",
       " - \\frac{129600 \\cdot 2^{\\frac{46}{105}} \\cdot 3^{\\frac{2}{35}} \\cdot 5^{\\frac{16}{35}} \\cdot 7^{\\frac{4}{21}}}{5764801} & 0.0704128669 & -0.027354425 & -0.0609918503 & 0.0706863968 & -0.0509195398 & -0.1422464357 & 0.0884262301  \\\\\n",
       " \\end{bmatrix}\n",
       "$$"
      ],
      "text/plain": [
       "<IPython.core.display.Latex object>"
      ]
     },
     "metadata": {},
     "output_type": "display_data"
    },
    {
     "name": "stdout",
     "output_type": "stream",
     "text": [
      "p\n"
     ]
    },
    {
     "data": {
      "text/latex": [
       "$$\n",
       "\n",
       "\\begin{bmatrix}\n",
       "0.0081826823 & -0.0651559398 & -0.0163176728 & -0.0657121182 & 0.0156961862 & 0.0394067821 & 0.0946641378 & 0.003500864  \\\\\n",
       " -0.098761084 & -0.0148046366 & -0.078806254 & -0.0499218962 & 0.0259225882 & 0.0289813768 & 0.0097434267 & 0.0262105327  \\\\\n",
       " 0.0151716261 & -0.0709604632 & -0.0200423839 & 0.1216586893 & 0.0943611393 & 0.0024979283 & -0.0522530697 & 0.0934348164  \\\\\n",
       " -0.0259195258 & 0.0332552894 & 0.060802503 & 0.071311772 & -0.0947399322 & 0.0011118205 & 0.0607473801 & -0.0636248422  \\\\\n",
       " -0.0302882543 & - \\frac{2^{\\frac{417}{641}} \\cdot 3^{\\frac{307}{641}} \\cdot 5^{\\frac{486}{641}} \\cdot 7^{\\frac{40}{641}}}{70} & -0.0740851513 & 0.0147637331 & -0.0092052668 & -0.0640831881 & 0.0442625913 & -0.0626202853  \\\\\n",
       " 0.1823316997 & 0.0392375986 & -0.0069322323 & -0.1299898648 & -0.1945840702 & 0.0203550298 & -0.0014715493 & -0.0236460743  \\\\\n",
       " 0.0086345536 & 0.0589942114 & 0.0391886419 & 0.0067268569 & -0.0138970388 & 0.1236331189 & 0.1375747053 & -0.0255748568  \\\\\n",
       " -0.0409356366 & -0.1135641135 & 0.0663310231 & -0.0082744031 & 0.0717246748 & -0.0494463067 & -0.1422464357 & 0.0884262301  \\\\\n",
       " \\end{bmatrix}\n",
       "$$"
      ],
      "text/plain": [
       "<IPython.core.display.Latex object>"
      ]
     },
     "metadata": {},
     "output_type": "display_data"
    }
   ],
   "source": [
    "p_mat_list = [P[1:, 1:] for P in P_list]\n",
    "for p in p_mat_list:\n",
    "    print(\"p\")\n",
    "    display(array_to_latex(p, max_size=30))"
   ]
  },
  {
   "cell_type": "markdown",
   "id": "e034fca5-3d29-4396-95f7-14aae8b1df41",
   "metadata": {},
   "source": [
    "Now solve Eq. (30) and Eq. (31) for $R^{(0)}$ (python index starts with 0).  Because both qutrits are fully non-degenerate, both $R^{(a)}$ are block-diagonal as\n",
    "$$R^{(a)} = R^{(a,12)}\\oplus R^{(a,13)}\\oplus R^{(a,23)}\\oplus I_2.$$"
   ]
  },
  {
   "cell_type": "code",
   "execution_count": 104,
   "id": "ea78cb8c-72b0-44b5-bf3a-16037d0ba8cf",
   "metadata": {},
   "outputs": [
    {
     "data": {
      "text/latex": [
       "$$\n",
       "\n",
       "\\begin{bmatrix}\n",
       "0.0955503979 & -0.9954245936 & 0 & 0 & 0 & 0 & 0 & 0  \\\\\n",
       " 0.9954245936 & 0.0955503979 & 0 & 0 & 0 & 0 & 0 & 0  \\\\\n",
       " 0 & 0 & 0.8270130902 & 0.5621826648 & 0 & 0 & 0 & 0  \\\\\n",
       " 0 & 0 & -0.5621826648 & 0.8270130902 & 0 & 0 & 0 & 0  \\\\\n",
       " 0 & 0 & 0 & 0 & -0.4805890207 & 0.8769459465 & 0 & 0  \\\\\n",
       " 0 & 0 & 0 & 0 & -0.8769459465 & -0.4805890207 & 0 & 0  \\\\\n",
       " 0 & 0 & 0 & 0 & 0 & 0 & 1 & 0  \\\\\n",
       " 0 & 0 & 0 & 0 & 0 & 0 & 0 & 1  \\\\\n",
       " \\end{bmatrix}\n",
       "$$"
      ],
      "text/plain": [
       "<IPython.core.display.Latex object>"
      ]
     },
     "metadata": {},
     "output_type": "display_data"
    }
   ],
   "source": [
    "R12 = compute_SO2(p_mat_list[0][0:2, -1], p_mat_list[1][0:2, -1])\n",
    "R13 = compute_SO2(p_mat_list[0][2:4, -1], p_mat_list[1][2:4, -1])\n",
    "R23 = compute_SO2(p_mat_list[0][4:6, -1], p_mat_list[1][4:6, -1])\n",
    "phi12 = R2phi(R12)\n",
    "phi13 = R2phi(R13)\n",
    "phi23 = R2phi(R23)\n",
    "\n",
    "R0 = block_diag(R12, R13, R23, np.eye(2))\n",
    "display(array_to_latex(R0))"
   ]
  },
  {
   "cell_type": "markdown",
   "id": "058e3de3-ce46-4ae1-ad6e-41f06c863a16",
   "metadata": {},
   "source": [
    "Now solve for $\\theta^{(0)}$ using Eq. (74).  As there are only two free $\\theta^{(0)}$, we will use $\\phi_{12}$ and $\\phi_{13}$ to solve $\\theta^{(0)}$.  Also, $f_{1,012,112} = 1$, $f_{2,012,112} = 0$, $f_{1,013,113} = 1/2$, and $f_{2,013,113} = \\sqrt{3}/2$, thus\n",
    "\\begin{align}\n",
    "\\phi_{12} &= \\theta^{(0)}_1 \\\\\n",
    "\\phi_{13} &= \\frac12\\theta^{(0)}_1 + \\frac{\\sqrt3}{2}\\theta^{(0)}_2\n",
    "\\end{align}"
   ]
  },
  {
   "cell_type": "code",
   "execution_count": 105,
   "id": "07d71a88-a83b-4c50-b8c8-66312ff25838",
   "metadata": {},
   "outputs": [],
   "source": [
    "theta1 = phi12\n",
    "theta2 = (2*phi13-theta1)/sqrt(3)"
   ]
  },
  {
   "cell_type": "markdown",
   "id": "96e69445-b6f5-4b9c-bb61-a8df92b2392c",
   "metadata": {},
   "source": [
    "Construct $\\bar U_0$"
   ]
  },
  {
   "cell_type": "code",
   "execution_count": 106,
   "id": "f2b1ff7f-a4b3-4ba2-9380-a4b321b33d33",
   "metadata": {},
   "outputs": [
    {
     "data": {
      "text/latex": [
       "$$\n",
       "\n",
       "\\begin{bmatrix}\n",
       "0.9574704978 - 0.288531187 i & 0 & 0  \\\\\n",
       " 0 & 0.3786977266 + 0.9255204114 i & 0  \\\\\n",
       " 0 & 0 & 0.6296334036 - 0.7768923845 i  \\\\\n",
       " \\end{bmatrix}\n",
       "$$"
      ],
      "text/plain": [
       "<IPython.core.display.Latex object>"
      ]
     },
     "metadata": {},
     "output_type": "display_data"
    }
   ],
   "source": [
    "su_n = sug.get_group_structure(n)\n",
    "idx_bd = sug.get_index_bidict(n)\n",
    "\n",
    "T1 = su_n.T[idx_bd[1]-1]\n",
    "T2 = su_n.T[idx_bd[2]-1]\n",
    "Ubar0 = expm(1j*(theta1*T1 + theta2*T2))\n",
    "display(array_to_latex(Ubar0))"
   ]
  },
  {
   "cell_type": "markdown",
   "id": "4cc58d1d-d5eb-4a85-9a0c-a63f5c0efa46",
   "metadata": {},
   "source": [
    "From Eq. (30), $R^{(1)} = \\left(P^{(1)}\\right)^{-1}R^{(0)}P^{(0)}$.  And because $R^{(1)}$ is also block diagonal, we can solve for $\\phi_{ij}$ and $\\theta^{(1)}_l$ as before."
   ]
  },
  {
   "cell_type": "code",
   "execution_count": 107,
   "id": "2cd8a89b-78f2-4971-a453-3d31c187906e",
   "metadata": {},
   "outputs": [],
   "source": [
    "R1 = inv(p_mat_list[1])@R0@p_mat_list[0]\n",
    "phi12 = R2phi(R1[0:2, 0:2])\n",
    "phi13 = R2phi(R1[2:4, 2:4])\n",
    "phi23 = R2phi(R1[4:6, 4:6])\n",
    "theta1 = phi12\n",
    "theta2 = (2*phi13-theta1)/sqrt(3)"
   ]
  },
  {
   "cell_type": "markdown",
   "id": "7717c671-73a5-4bf2-b9ce-023cdea0ce58",
   "metadata": {},
   "source": [
    "Now construct $\\bar U_1$ and verify\n",
    "$$\\rho^{(r, 1)} = \\left(\\bar U_1\\otimes\\bar U_0\\right)\\rho^{(r,0)}\\left(\\bar U_1\\otimes\\bar U_0\\right)^\\dagger.$$"
   ]
  },
  {
   "cell_type": "code",
   "execution_count": 108,
   "id": "b20f9d6c-0488-4410-bd1d-f688b14a8d89",
   "metadata": {},
   "outputs": [
    {
     "data": {
      "text/latex": [
       "$$\n",
       "\n",
       "\\begin{bmatrix}\n",
       "0.3260892817 - 0.9453389764 i & 0 & 0  \\\\\n",
       " 0 & 0.8202366547 + 0.5720243266 i & 0  \\\\\n",
       " 0 & 0 & 0.8082272729 + 0.5888706779 i  \\\\\n",
       " \\end{bmatrix}\n",
       "$$"
      ],
      "text/plain": [
       "<IPython.core.display.Latex object>"
      ]
     },
     "metadata": {},
     "output_type": "display_data"
    },
    {
     "name": "stdout",
     "output_type": "stream",
     "text": [
      "True\n"
     ]
    }
   ],
   "source": [
    "Ubar1 = expm(1j*(theta1*T1+theta2*T2))\n",
    "display(array_to_latex(Ubar1))\n",
    "Ubar = np.kron(Ubar1, Ubar0)\n",
    "print(np.allclose(ref_rho_list[1], Ubar@ref_rho_list[0]@Ubar.conj().T))"
   ]
  },
  {
   "cell_type": "code",
   "execution_count": 109,
   "id": "35c9bfc0-753c-4e65-b791-e4dcae70e354",
   "metadata": {},
   "outputs": [
    {
     "name": "stdout",
     "output_type": "stream",
     "text": [
      "D_0\n"
     ]
    },
    {
     "data": {
      "text/latex": [
       "$$\n",
       "\n",
       "\\begin{bmatrix}\n",
       "0.2608790735 & 0.2976999937 & 0.4414209329  \\\\\n",
       " \\end{bmatrix}\n",
       "$$"
      ],
      "text/plain": [
       "<IPython.core.display.Latex object>"
      ]
     },
     "metadata": {},
     "output_type": "display_data"
    },
    {
     "name": "stdout",
     "output_type": "stream",
     "text": [
      "D_1\n"
     ]
    },
    {
     "data": {
      "text/latex": [
       "$$\n",
       "\n",
       "\\begin{bmatrix}\n",
       "0.1745416576 & 0.3282958377 & 0.4971625047  \\\\\n",
       " \\end{bmatrix}\n",
       "$$"
      ],
      "text/plain": [
       "<IPython.core.display.Latex object>"
      ]
     },
     "metadata": {},
     "output_type": "display_data"
    },
    {
     "name": "stdout",
     "output_type": "stream",
     "text": [
      "ref_rho_list[0]\n"
     ]
    },
    {
     "data": {
      "text/latex": [
       "$$\n",
       "\n",
       "\\begin{bmatrix}\n",
       "0.0746619937 & 0.0050334781 - 0.0055058307 i & 0.0210802012 + 0.010011518 i & 0.0166638639 - 0.0031853354 i & -0.0177069196 - 0.0202058742 i & -0.0615723285 + 0.0050485953 i & 0.0118317664 + 0.0123467851 i & -0.0370272805 - 0.0344521652 i & -0.0171315609 - 0.0089227066 i  \\\\\n",
       " 0.0050334781 + 0.0055058307 i & 0.0308854434 & -0.0263496315 - 0.008513656 i & 0.003292671 + 0.0242650693 i & -0.0054092851 - 0.0162723086 i & -0.0004782419 - 0.0051537442 i & -0.0105722626 - 0.0121679272 i & -0.010482993 - 0.0077581968 i & 0.0124961688 - 0.0152164303 i  \\\\\n",
       " 0.0210802012 - 0.010011518 i & -0.0263496315 + 0.008513656 i & \\frac{2^{\\frac{23}{75}} \\cdot 3^{\\frac{76}{125}} \\cdot 5^{\\frac{31}{375}} \\cdot 7^{\\frac{71}{75}}}{252} & -0.0238018679 - 0.0137989179 i & -0.0141306336 - 0.0238525091 i & -0.0112545788 + 0.019457644 i & 0.0455405596 + 0.026653463 i & 0.0165831343 - 0.0107309677 i & -0.0013487734 - 0.0045885883 i  \\\\\n",
       " 0.0166638639 + 0.0031853354 i & 0.003292671 - 0.0242650693 i & -0.0238018679 + 0.0137989179 i & 0.0725297613 & 0.006705335 + 0.0158311985 i & -0.0135524249 - 0.0033183914 i & -0.0412311571 + 0.0005830016 i & -0.0186087228 - 0.0318005846 i & -0.0127733371 + 0.0039928767 i  \\\\\n",
       " -0.0177069196 + 0.0202058742 i & -0.0054092851 + 0.0162723086 i & -0.0141306336 + 0.0238525091 i & 0.006705335 - 0.0158311985 i & 0.154299102 & 0.0083059034 - 0.0058663181 i & -0.063933075 + 0.0240399712 i & 0.0249521177 + 0.0185088776 i & 0.0816594316 + 0.054763915 i  \\\\\n",
       " -0.0615723285 - 0.0050485953 i & -0.0004782419 + 0.0051537442 i & -0.0112545788 - 0.019457644 i & -0.0135524249 + 0.0033183914 i & 0.0083059034 + 0.0058663181 i & 0.1014669745 & -0.0292369816 - 0.0151662676 i & 0.0347396806 + 0.0267208121 i & 0.0162790394 - 0.0190918792 i  \\\\\n",
       " 0.0118317664 - 0.0123467851 i & -0.0105722626 + 0.0121679272 i & 0.0455405596 - 0.026653463 i & -0.0412311571 - 0.0005830016 i & -0.063933075 - 0.0240399712 i & -0.0292369816 + 0.0151662676 i & 0.1136873185 & -0.0117388131 - 0.0103253679 i & -0.0075277763 - 0.0066931266 i  \\\\\n",
       " -0.0370272805 + 0.0344521652 i & -0.010482993 + 0.0077581968 i & 0.0165831343 + 0.0107309677 i & -0.0186087228 + 0.0318005846 i & 0.0249521177 - 0.0185088776 i & 0.0347396806 - 0.0267208121 i & -0.0117388131 + 0.0103253679 i & 0.1125154483 & 0.0180437282 + 0.0143799741 i  \\\\\n",
       " -0.0171315609 + 0.0089227066 i & 0.0124961688 + 0.0152164303 i & -0.0013487734 + 0.0045885883 i & -0.0127733371 - 0.0039928767 i & 0.0816594316 - 0.054763915 i & 0.0162790394 + 0.0190918792 i & -0.0075277763 + 0.0066931266 i & 0.0180437282 - 0.0143799741 i & 0.2709597379  \\\\\n",
       " \\end{bmatrix}\n",
       "$$"
      ],
      "text/plain": [
       "<IPython.core.display.Latex object>"
      ]
     },
     "metadata": {},
     "output_type": "display_data"
    },
    {
     "name": "stdout",
     "output_type": "stream",
     "text": [
      "ref_rho_list[1]\n"
     ]
    },
    {
     "data": {
      "text/latex": [
       "$$\n",
       "\n",
       "\\begin{bmatrix}\n",
       "0.0746619937 & 0.007202138 + 0.0019440373 i & -0.0095600523 - 0.0212887476 i & -0.0153141384 + 0.007301225 i & -0.00316919 + 0.0266789916 i & -0.0576537056 - 0.0221966256 i & 0.0168336572 + 0.0030102793 i & -0.0176898956 - 0.0473818402 i & 0.0164088036 + 0.0101909881 i  \\\\\n",
       " 0.007202138 - 0.0019440373 i & 0.0308854434 & 0.0276109984 - 0.002101948 i & -0.0243967771 - 0.0021053592 i & 0.0093535388 + 0.0143721851 i & -0.0034787036 - 0.003832547 i & -0.0104173255 + 0.012300834 i & -0.0130412232 - 9.6214 \\cdot 10^{-5} i & 0.0063931536 + 0.0186231462 i  \\\\\n",
       " -0.0095600523 + 0.0212887476 i & 0.0276109984 + 0.002101948 i & \\frac{2^{\\frac{23}{75}} \\cdot 3^{\\frac{76}{125}} \\cdot 5^{\\frac{31}{375}} \\cdot 7^{\\frac{71}{75}}}{252} & -0.0249392047 + 0.0116178794 i & -0.0108559731 - 0.025510093 i & 0.0059605996 - 0.0216734101 i & -0.0365522077 + 0.03805635 i & -0.0135391568 + 0.0143821154 i & -0.003792434 - 0.0029140653 i  \\\\\n",
       " -0.0153141384 - 0.007301225 i & -0.0243967771 + 0.0021053592 i & -0.0249392047 - 0.0116178794 i & 0.0725297613 & -0.0109859569 + 0.0132248673 i & 0.0081674967 + 0.0113124683 i & 0.0381722302 - 0.0155958023 i & -0.0069822871 + 0.036177471 i & -0.0133773844 - 0.000383134 i  \\\\\n",
       " -0.00316919 - 0.0266789916 i & 0.0093535388 - 0.0143721851 i & -0.0108559731 + 0.025510093 i & -0.0109859569 - 0.0132248673 i & 0.154299102 & -0.005464801 + 0.0085754107 i & -0.0173232677 - 0.0660701347 i & -0.0299871264 - 0.0081215132 i & 0.0968806476 - 0.0167776422 i  \\\\\n",
       " -0.0576537056 + 0.0221966256 i & -0.0034787036 + 0.003832547 i & 0.0059605996 + 0.0216734101 i & 0.0081674967 - 0.0113124683 i & -0.005464801 - 0.0085754107 i & 0.1014669745 & -0.0271737233 + 0.0186119727 i & 0.0343413006 + 0.0272309067 i & -0.0081851038 + 0.0237173155 i  \\\\\n",
       " 0.0168336572 - 0.0030102793 i & -0.0104173255 - 0.012300834 i & -0.0365522077 - 0.03805635 i & 0.0381722302 + 0.0155958023 i & -0.0173232677 + 0.0660701347 i & -0.0271737233 - 0.0186119727 i & 0.1136873185 & 0.0037838189 - 0.0151689047 i & 0.0013925556 + 0.0099762793 i  \\\\\n",
       " -0.0176898956 + 0.0473818402 i & -0.0130412232 + 9.6214 \\cdot 10^{-5} i & -0.0135391568 - 0.0143821154 i & -0.0069822871 - 0.036177471 i & -0.0299871264 + 0.0081215132 i & 0.0343413006 - 0.0272309067 i & 0.0037838189 + 0.0151689047 i & 0.1125154483 & -0.0221461975 - 0.0064734627 i  \\\\\n",
       " 0.0164088036 - 0.0101909881 i & 0.0063931536 - 0.0186231462 i & -0.003792434 + 0.0029140653 i & -0.0133773844 + 0.000383134 i & 0.0968806476 + 0.0167776422 i & -0.0081851038 - 0.0237173155 i & 0.0013925556 - 0.0099762793 i & -0.0221461975 + 0.0064734627 i & 0.2709597379  \\\\\n",
       " \\end{bmatrix}\n",
       "$$"
      ],
      "text/plain": [
       "<IPython.core.display.Latex object>"
      ]
     },
     "metadata": {},
     "output_type": "display_data"
    },
    {
     "name": "stdout",
     "output_type": "stream",
     "text": [
      "P mat\n"
     ]
    },
    {
     "data": {
      "text/latex": [
       "$$\n",
       "\n",
       "\\begin{bmatrix}\n",
       "-0.0288284973 & -0.0081183901 & -0.0951990862 & 0.0932401846 & -0.1650835956 & 0.0155212268 & -0.0033437139 & 0.0406644414  \\\\\n",
       " 0.0889418869 & 0.0419991813 & 0.044568476 & 0.0529100357 & 0.1116811115 & -0.0906487045 & 0.0426740584 & -0.0357681235  \\\\\n",
       " -0.1707483929 & 0.0175006453 & 0.0568179974 & -0.0354615127 & -0.0840206374 & 0.0223467818 & 0.069265252 & 0.026076982  \\\\\n",
       " -0.0376950265 & 0.0755409211 & 0.0711523391 & 0.1253442411 & -0.0383182886 & -0.032927289 & -0.0266598187 & -0.0231856706  \\\\\n",
       " -0.029217751 & 0.0580125066 & 0.0581586061 & 0.051894796 & 0.2327982245 & -0.1629694542 & -0.0693110698 & - \\frac{2^{\\frac{107}{247}} \\cdot 3^{\\frac{267}{494}} \\cdot 5^{\\frac{24}{247}} \\cdot 7^{\\frac{142}{247}}}{140}  \\\\\n",
       " -0.0373975298 & -0.0273047832 & 0.0089709251 & 0.008173931 & -0.0560862059 & -0.093839502 & 0.0052946756 & 0.0498136915  \\\\\n",
       " 0.0441462979 & -0.0261739464 & 0.0446295188 & -0.0402099636 & -0.1323665495 & 0.0358517519 & 0.125545891 & -0.0232883069  \\\\\n",
       " 0.0389870045 & 0.067403256 & 0.004672288 & -0.0158953362 & -0.0563922467 & -0.0661362097 & -0.0325255576 & 0.2076291094  \\\\\n",
       " \\end{bmatrix}\n",
       "$$"
      ],
      "text/plain": [
       "<IPython.core.display.Latex object>"
      ]
     },
     "metadata": {},
     "output_type": "display_data"
    },
    {
     "name": "stdout",
     "output_type": "stream",
     "text": [
      "P mat\n"
     ]
    },
    {
     "data": {
      "text/latex": [
       "$$\n",
       "\n",
       "\\begin{bmatrix}\n",
       "-0.0551319341 & -0.0491472648 & -0.0562144422 & 0.0701620122 & -0.0486111095 & 0.0597853272 & 0.0363761897 & -0.013107533  \\\\\n",
       " -0.0575687014 & -0.0424551742 & 0.1193653484 & 0.0145451402 & -0.2044952114 & -0.0206819613 & 0.02256166 & -0.0525466272  \\\\\n",
       " -0.1651858206 & 0.0211574922 & -0.0402868081 & -0.0964946761 & -0.0811022154 & -0.0364576774 & -0.035455098 & -0.004823954  \\\\\n",
       " 0.06762901 & 0.0654290017 & 0.0557307238 & -0.1059220225 & 0.0379902133 & -0.0275926778 & 0.0652024317 & 0.0345588452  \\\\\n",
       " -0.0286693533 & 0.0586852799 & -0.0142920065 & -0.0660105231 & 0.2624438965 & -0.0209065289 & 0.0661515988 & 0.0767166784  \\\\\n",
       " -0.043355092 & -0.014754539 & -0.0084820615 & -0.0398646207 & 0.0880170977 & -0.125078694 & 0.0213547175 & -0.0224247327  \\\\\n",
       " -0.0493353543 & 0.0141419202 & 0.0597497608 & -0.0062129867 & 0.1363187131 & 0.0149485781 & 0.125545891 & -0.0232883069  \\\\\n",
       " -0.0206481227 & -0.075078895 & 0.0131373769 & -0.0100946182 & 0.0283540313 & 0.0821591908 & -0.0325255576 & 0.2076291094  \\\\\n",
       " \\end{bmatrix}\n",
       "$$"
      ],
      "text/plain": [
       "<IPython.core.display.Latex object>"
      ]
     },
     "metadata": {},
     "output_type": "display_data"
    },
    {
     "data": {
      "text/latex": [
       "$$\n",
       "\n",
       "\\begin{bmatrix}\n",
       "0.4590876887 & 0.8883909579 & 0 & 0 & 0 & 0 & 0 & 0  \\\\\n",
       " -0.8883909579 & 0.4590876887 & 0 & 0 & 0 & 0 & 0 & 0  \\\\\n",
       " 0 & 0 & -0.7613962784 & -0.6482867477 & 0 & 0 & 0 & 0  \\\\\n",
       " 0 & 0 & 0.6482867477 & -0.7613962784 & 0 & 0 & 0 & 0  \\\\\n",
       " 0 & 0 & 0 & 0 & -0.9254797425 & 0.3787971044 & 0 & 0  \\\\\n",
       " 0 & 0 & 0 & 0 & -0.3787971044 & -0.9254797425 & 0 & 0  \\\\\n",
       " 0 & 0 & 0 & 0 & 0 & 0 & 1 & 0  \\\\\n",
       " 0 & 0 & 0 & 0 & 0 & 0 & 0 & 1  \\\\\n",
       " \\end{bmatrix}\n",
       "$$"
      ],
      "text/plain": [
       "<IPython.core.display.Latex object>"
      ]
     },
     "metadata": {},
     "output_type": "display_data"
    },
    {
     "data": {
      "text/latex": [
       "$$\n",
       "\n",
       "\\begin{bmatrix}\n",
       "0.9015414806 - 0.4326926839 i & 0 & 0  \\\\\n",
       " 0 & 0.0294863268 - 0.9995651837 i & 0  \\\\\n",
       " 0 & 0 & -0.4059213954 + 0.9139079936 i  \\\\\n",
       " \\end{bmatrix}\n",
       "$$"
      ],
      "text/plain": [
       "<IPython.core.display.Latex object>"
      ]
     },
     "metadata": {},
     "output_type": "display_data"
    },
    {
     "data": {
      "text/latex": [
       "$$\n",
       "\n",
       "\\begin{bmatrix}\n",
       "0.7303607522 + 0.6830616162 i & 0 & 0  \\\\\n",
       " 0 & -0.5335880717 - 0.8457445062 i & 0  \\\\\n",
       " 0 & 0 & 0.1879838239 + 0.9821721244 i  \\\\\n",
       " \\end{bmatrix}\n",
       "$$"
      ],
      "text/plain": [
       "<IPython.core.display.Latex object>"
      ]
     },
     "metadata": {},
     "output_type": "display_data"
    },
    {
     "name": "stdout",
     "output_type": "stream",
     "text": [
      "True\n"
     ]
    }
   ],
   "source": [
    "%reset -f\n",
    "import string\n",
    "import numpy as np\n",
    "from numpy import sqrt, cos, sin, pi\n",
    "from scipy.linalg import norm, block_diag, expm, inv, eigh, det\n",
    "import qiskit.quantum_info as qi\n",
    "from qiskit.visualization import array_to_latex\n",
    "\n",
    "import special_unitary_group as sug\n",
    "\n",
    "np.set_printoptions(linewidth=1000)\n",
    "\n",
    "def partial_trace(T, dims, trace_axes):\n",
    "    \"\"\"\n",
    "    Compute partial trace for a subset of axes.\n",
    "    :param T:  a numpy array of NxN\n",
    "    :param dims: a tuple/list of integers of subspace dimensions, np.prod(dims) = N\n",
    "    :param trace_axes: a tuple/list of subspace indices to partial trace over.\n",
    "    :return: a numpy array of MxM where M = N/np.prod([dims[k] for k in trace_axes])\n",
    "\n",
    "    Note: the order of dimensions are in the qiskit conversion,\n",
    "    the Hilbert space the H_{K-1} X...X H_0.\n",
    "\n",
    "    The limitation is the number of subspaces is no greater than 26 (by the\n",
    "    number of letter used in einsum).  For the case where number of subspaces\n",
    "    is greater than 26, use partial_trace_2, which is unlimited, but much slower.\n",
    "    \"\"\"\n",
    "\n",
    "    K = len(dims)\n",
    "\n",
    "    # build subscript string for einsum\n",
    "    in_sub_left = list(string.ascii_lowercase[:K])  # in subscript left\n",
    "    in_sub_right = list(string.ascii_uppercase[:K])  # in subscript right\n",
    "    out_sub_left = list(string.ascii_lowercase[:K])  # out subscript left\n",
    "    out_sub_right = list(string.ascii_uppercase[:K])  # out subscript right\n",
    "\n",
    "    trace_dim = 1\n",
    "    for k in trace_axes:\n",
    "        out_sub_left.remove(in_sub_left[K-1-k])  # qiskit reverse\n",
    "        out_sub_right.remove(in_sub_right[K-1-k])\n",
    "        in_sub_right[K-1-k] = in_sub_left[K-1-k]\n",
    "        trace_dim *= dims[k]\n",
    "\n",
    "    subscript = \"\".join(in_sub_left + in_sub_right + ['-', '>'] + out_sub_left + out_sub_right)\n",
    "\n",
    "    out_dim = round(np.prod(dims)/np.prod(trace_dim))\n",
    "    dims_reversed = list(reversed(dims))\n",
    "    return np.einsum(subscript, T.reshape(dims_reversed+dims_reversed)).reshape(out_dim, out_dim)\n",
    "\n",
    "def process_density_matrix(rho):\n",
    "    \"\"\"\n",
    "    take an input qi.DensityMatrix and returns single qudit density matrix (np array)\n",
    "    :param rho: qiskit.quantum_info.DensityMatrix, density matrix of K qudits\n",
    "    :return:\n",
    "    \"\"\"\n",
    "    dims = rho.dims()\n",
    "    K = len(dims)\n",
    "    r1_list = []  # list of single qudit reduced density matrix\n",
    "    eigen_list = []  # list of eigenvalues and eigenvectors of r1\n",
    "    for k in range(K):\n",
    "        trace_dims = list(range(K))\n",
    "        trace_dims.remove(k)\n",
    "        r1 = partial_trace(rho.data, dims, trace_dims)\n",
    "        D, V = eigh(r1)\n",
    "        V /= det(V)**(1/dims[k])  # make sure V in SU(N)\n",
    "        r1_list.append(r1)\n",
    "        eigen_list.append((D, V))\n",
    "\n",
    "    return r1_list, eigen_list\n",
    "\n",
    "def compute_SO2(v_a, v_b):\n",
    "    norm_a = norm(v_a)\n",
    "    norm_b = norm(v_b)\n",
    "    if not np.isclose(norm_a, norm_b):\n",
    "        raise ValueError(\"Norm v_a and v_b diff, \"\n",
    "                         f\"norm(v_a) = {norm_a}, \"\n",
    "                         f\"norm(v_b) = {norm_b}, \"\n",
    "                         f\"diff = {norm_a-norm_b}\")\n",
    "    denominator = norm_a**2\n",
    "\n",
    "    cos_phi = min(1, max(-1, (v_a[0]*v_b[0] + v_a[1]*v_b[1])/denominator))\n",
    "    sin_phi = min(1, max(-1, (v_b[0]*v_a[1]-v_a[0]*v_b[1])/denominator))\n",
    "\n",
    "    # R = [[c, s], [-s, c]]\n",
    "    return np.array([[cos_phi, sin_phi], [-sin_phi, cos_phi]])\n",
    "\n",
    "def R2phi(R):\n",
    "    return np.arctan2(R[0, 1], R[0, 0])\n",
    "\n",
    "n = 3\n",
    "\n",
    "U_list = [\n",
    "    np.array([[cos(pi/3), -sin(pi/3), 0],\n",
    "              [sin(pi/3), cos(pi/3), 0],\n",
    "              [0, 0, 1]]),\n",
    "#    np.array([[cos(pi/4), 0, -sin(pi/4)],\n",
    "#              [0, 1, 0],\n",
    "#              [sin(pi/4), 0, cos(pi/4)]]),\n",
    "    np.array([[1, 0, 0],\n",
    "              [0, cos(pi/6), -sin(pi/6)],\n",
    "              [0, sin(pi/6), cos(pi/6)]])\n",
    "]\n",
    "\n",
    "for i in range(len(U_list)):\n",
    "    if not np.allclose(U_list[i]@U_list[i].conj().T, np.eye(3)):\n",
    "        raise ValueError(f\"U_list[{i}] is not unitary\")\n",
    "\n",
    "\n",
    "RNG = np.random.default_rng(12345)\n",
    "U = 1\n",
    "for i in range(len(U_list)):\n",
    "#    U = np.kron(U_list[i], U)\n",
    "    U = np.kron(qi.random_unitary(3, RNG).data, U)\n",
    "\n",
    "rho_a = qi.random_density_matrix((3,3), seed=RNG)\n",
    "\n",
    "\n",
    "rho_b = rho_a.evolve(U)\n",
    "\n",
    "rho_list = [rho_a, rho_b]\n",
    "for a in (0, 1):\n",
    "    if not rho_list[a].is_valid():\n",
    "        raise ValueError(\"Invalid density matrix\")\n",
    "\n",
    "r1_lists = [list(), list()]\n",
    "eigen_lists = [list(), list()]\n",
    "\n",
    "for i in (0, 1):\n",
    "    rho = rho_list[i]\n",
    "    r1_lists[i], eigen_lists[i] = process_density_matrix(rho)\n",
    "\n",
    "K = len(r1_lists[0])\n",
    "\n",
    "for k in range(K):\n",
    "    D_a = eigen_lists[0][k][0]\n",
    "    D_b = eigen_lists[1][k][0]\n",
    "    if not np.allclose(D_a-D_b, 0):\n",
    "        raise ValueError(f\"signle qudit eigen values in qudit-{k} differ\")\n",
    "    print(f\"D_{k}\")\n",
    "    display(array_to_latex(D_a))\n",
    "\n",
    "# construct reference density matrices\n",
    "ref_rho_list = []  # ref_rho_list is a list of np.array, not qi.DensityMatrix\n",
    "for a in (0, 1):\n",
    "    V = 1\n",
    "    for k in range(K):\n",
    "        V = np.kron(eigen_lists[a][k][1], V)\n",
    "    ref_rho_list.append(V.conj().T @ rho_list[a].data @ V)\n",
    "    print(f\"ref_rho_list[{a}]\")\n",
    "    display(array_to_latex(ref_rho_list[-1], max_size=30))\n",
    "\n",
    "p_mat_list = []\n",
    "for ref_rho in ref_rho_list:\n",
    "    p_mat_list.append(sug.matrix_to_basis_projection(ref_rho, (n, n))[1:,1:].real)\n",
    "    print(\"P mat\")\n",
    "    display(array_to_latex(p_mat_list[-1], max_size=30))\n",
    "\n",
    "# now solve for R0@P0@R1.T = P1\n",
    "# because qudit 0 and qudit 1 are fully non-degenerate then\n",
    "#  R0 = R0_12 (+) R0_13 (+) R0_13 + I_2\n",
    "#  R1 = R1_12 (+) R1_13 (+) R1_13 + I_2\n",
    "# (+) means matrix direct sum.\n",
    "R12 = compute_SO2(p_mat_list[0][0:2, -1], p_mat_list[1][0:2, -1])\n",
    "R13 = compute_SO2(p_mat_list[0][2:4, -1], p_mat_list[1][2:4, -1])\n",
    "R23 = compute_SO2(p_mat_list[0][4:6, -1], p_mat_list[1][4:6, -1])\n",
    "phi12 = R2phi(R12)\n",
    "phi13 = R2phi(R13)\n",
    "phi23 = R2phi(R23)\n",
    "\n",
    "R0 = block_diag(R12, R13, R23, np.eye(2))\n",
    "display(array_to_latex(R0))\n",
    "\n",
    "# use ij = 12, 13 to solve Eq. (74)\n",
    "# phi12 = theta_1*f_1,012,112 + theta_2*f_2,012,112\n",
    "# phi13 = theta_1*f_1,013,113 + theta_2*f_2,013,113\n",
    "# f1,012,112 = 1\n",
    "# f2,012,112 = 0\n",
    "# f1,013,113 = 1/2\n",
    "# f2,013,113 = sqrt(3)/2\n",
    "theta1 = phi12\n",
    "theta2 = (2*phi13-theta1)/sqrt(3)\n",
    "T1 = np.array([[0.5, 0, 0], [0, -0.5, 0], [0, 0, 0]])\n",
    "T2 = np.array([[1/sqrt(12), 0, 0], [0, 1/sqrt(12), 0], [0, 0, -1/sqrt(3)]])\n",
    "Ubar0 = expm(1j*(theta1*T1 + theta2*T2))\n",
    "display(array_to_latex(Ubar0))\n",
    "\n",
    "R1 = inv(p_mat_list[1])@R0@p_mat_list[0]\n",
    "phi12 = R2phi(R1[0:2, 0:2])\n",
    "phi13 = R2phi(R1[2:4, 2:4])\n",
    "phi23 = R2phi(R1[4:6, 4:6])\n",
    "theta1 = phi12\n",
    "theta2 = (2*phi13-theta1)/sqrt(3)\n",
    "Ubar1 = expm(1j*(theta1*T1+theta2*T2))\n",
    "display(array_to_latex(Ubar1))\n",
    "Ubar = np.kron(Ubar1, Ubar0)\n",
    "print(np.allclose(ref_rho_list[1], Ubar@ref_rho_list[0]@Ubar.conj().T))"
   ]
  }
 ],
 "metadata": {
  "kernelspec": {
   "display_name": "qiskit_1_gpu",
   "language": "python",
   "name": "qiskit_1_gpu"
  },
  "language_info": {
   "codemirror_mode": {
    "name": "ipython",
    "version": 3
   },
   "file_extension": ".py",
   "mimetype": "text/x-python",
   "name": "python",
   "nbconvert_exporter": "python",
   "pygments_lexer": "ipython3",
   "version": "3.12.3"
  }
 },
 "nbformat": 4,
 "nbformat_minor": 5
}
